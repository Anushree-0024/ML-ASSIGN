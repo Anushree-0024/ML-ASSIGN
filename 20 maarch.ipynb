{
 "cells": [
  {
   "cell_type": "markdown",
   "id": "20d1cf2b-e644-4aae-b1ab-a0f96a5347ad",
   "metadata": {},
   "source": [
    "QUES 1:\n",
    " Data encoding is the process of converting data from one form to another. In machine learning, data encoding is used to convert categorical data into numerical data so that it can be used in machine learning models. There are two popular techniques for encoding categorical data: Ordinal Encoding and One-Hot Encoding.\n",
    "2. Categorical data is data that is divided into categories or groups, such as colors, shapes, or sizes. Machine learning models cannot work with categorical data directly, so it needs to be converted into numerical data.\n",
    "3. Ordinal encoding is a process of converting categorical data into integer format so that the data with converted categorical values can be provided to the models to give and improve the predictions.\n",
    "4. One-hot encoding is a process of converting categorical data into binary format so that the data with converted categorical values can be provided to the models to give and improve the predictions.\n",
    "5. Data encoding is useful in data science because it helps to convert categorical data into numerical data, which can be used in machine learning models. This helps to improve the accuracy of the models and make them more efficient.\n",
    "\n",
    "Question 2\n",
    "Nominal encoding is a type of data encoding that is used to convert categorical data into numerical data. Nominal data is data that does not have an inherent order, such as colors, names, or categories\n",
    "2. An example of how nominal encoding can be used in a real-world scenario is in the analysis of customer data. Suppose a company has a customer database that includes information such as the customer’s name, age, gender, and location. The location data is nominal data because it does not have an inherent order. To use this data in a machine learning model, the location data needs to be converted into numerical data using nominal encoding.\n",
    "3. One way to do this is to use one-hot encoding, which creates a new binary feature for each category in the nominal data. For example, if the location data includes categories such as “New York,” “Los Angeles,” and “Chicago,” then one-hot encoding would create three new binary features, one for each category.\n",
    "4. Nominal encoding is useful in data science because it helps to convert categorical data into numerical data, which can be used in machine learning models.\n",
    "\n",
    "\n",
    "QUES 3:\n",
    " Ordinal encoding is preferred over one-hot encoding when the categorical variable has a natural order or ranking. For example, in the context of machine learning, ordinal encoding can be used to encode the education level of a person, where the education level has a natural order such as “high school”, “bachelor’s degree”, “master’s degree”, and \"doctorate degree\".\n",
    "2. One-hot encoding is preferred when the categorical variable has no natural order or ranking. For example, in the context of machine learning, one-hot encoding can be used to encode the color of a car, where the colors have no natural order or ranking\n",
    "3. It is important to note that forcing an ordinal relationship via an ordinal encoding and allowing the model to assume a natural ordering between categories may result in poor performance or unexpected results (predictions halfway between categories).\n",
    "\n",
    "QUES 4:\n",
    "If I have a dataset containing categorical data with 5 unique values, I can use either ordinal encoding or one-hot encoding to transform this data into a format suitable for machine learning algorithms.\n",
    "2. If the categorical variable has a natural order or ranking, then ordinal encoding can be used. If the categorical variable has no natural order or ranking, then one-hot encoding can be used.\n",
    "3. In general, one-hot encoding is preferred over ordinal encoding because it does not assume any ordinal relationship between the categories and can be used for categorical variables with any number of unique values. However, one-hot encoding can lead to the curse of dimensionality if the number of unique values is very large.\n",
    "4. Ordinal encoding is preferred when the number of unique values is large and one-hot encoding would lead to the curse of dimensionality.\n",
    "\n",
    "Question 5:\n",
    "If I want to use nominal encoding to transform the categorical data, I would create a new column for each unique value in the categorical columns.\n",
    "2. Let’s assume that the first categorical column has 12 unique values and the second categorical column has 5 unique values. Then, nominal encoding/one-hot encoding would create 12 + 5 = 17 new columns.\n",
    "3. In general, if the first categorical column has n unique values and the second categorical column has m unique values, then nominal encoding would create n + m new columns.\n",
    "\n",
    "QUES 6:\n",
    "t is observed that variables species , habitat and diet are NOMINAL features with no natural order or ranking.\n",
    "2. If the categorical variable has no natural order or ranking, then one-hot encoding can be used.\n",
    "3. Hence One-Hot Encoding would be preffered in above case.\n",
    "\n",
    "QUES 7:\n",
    "\n",
    "\n"
   ]
  }
 ],
 "metadata": {
  "kernelspec": {
   "display_name": "Python 3 (ipykernel)",
   "language": "python",
   "name": "python3"
  },
  "language_info": {
   "codemirror_mode": {
    "name": "ipython",
    "version": 3
   },
   "file_extension": ".py",
   "mimetype": "text/x-python",
   "name": "python",
   "nbconvert_exporter": "python",
   "pygments_lexer": "ipython3",
   "version": "3.10.8"
  }
 },
 "nbformat": 4,
 "nbformat_minor": 5
}
